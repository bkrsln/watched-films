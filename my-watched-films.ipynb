{
 "cells": [
  {
   "cell_type": "code",
   "execution_count": 5,
   "metadata": {},
   "outputs": [],
   "source": [
    "import pandas as pd\n",
    "from bokeh.plotting import figure, output_file, show\n",
    "from bokeh.models import ColumnDataSource"
   ]
  },
  {
   "cell_type": "code",
   "execution_count": 6,
   "metadata": {},
   "outputs": [],
   "source": [
    "output_file(\"temp.html\")\n",
    "\n",
    "df = pd.read_csv('my-watched-films.csv', encoding = \"ISO-8859-1\")"
   ]
  },
  {
   "cell_type": "code",
   "execution_count": 34,
   "metadata": {},
   "outputs": [],
   "source": [
    "data = {'x_values': df['Title'], 'y_values': df['Num Votes']}\n",
    "\n",
    "source = ColumnDataSource(data = data)\n",
    "\n",
    "p = figure()\n",
    "p.circle(x = 'x_values', y = 'y_values', source = source, size = 10, color = 'green')\n",
    "\n",
    "p.title.text = 'Film / Num Votes'\n",
    "p.xaxis.axis_label = 'Num Votes'\n",
    "p.yaxis.axis_label = 'Film'\n",
    "\n",
    "show(p)"
   ]
  },
  {
   "cell_type": "code",
   "execution_count": 28,
   "metadata": {},
   "outputs": [
    {
     "name": "stdout",
     "output_type": "stream",
     "text": [
      "     Position      Const     Created    Modified  Description  \\\n",
      "201       202  tt0493464  2018-01-30  2018-01-30          NaN   \n",
      "48         49  tt0074896  2011-10-08  2011-10-08          NaN   \n",
      "206       207  tt0478087  2018-03-16  2018-03-16          NaN   \n",
      "209       210  tt5478478  2018-05-28  2018-05-28          NaN   \n",
      "166       167  tt0399854  2018-01-19  2018-01-19          NaN   \n",
      "222       223  tt0116695  2018-12-30  2018-12-30          NaN   \n",
      "240       241  tt3032476  2019-11-03  2019-11-03          NaN   \n",
      "47         48  tt1197624  2011-10-08  2011-10-08          NaN   \n",
      "14         15  tt0110413  2011-10-05  2011-10-05          NaN   \n",
      "273       274  tt6628102  2020-12-24  2020-12-24          NaN   \n",
      "\n",
      "                   Title                                    URL Title Type  \\\n",
      "201               Wanted  https://www.imdb.com/title/tt0493464/      movie   \n",
      "48           The Message  https://www.imdb.com/title/tt0074896/      movie   \n",
      "206                   21  https://www.imdb.com/title/tt0478087/      movie   \n",
      "209             Hostiles  https://www.imdb.com/title/tt5478478/      movie   \n",
      "166      Vizontele Tuuba  https://www.imdb.com/title/tt0399854/      movie   \n",
      "222        Jerry Maguire  https://www.imdb.com/title/tt0116695/      movie   \n",
      "240     Better Call Saul  https://www.imdb.com/title/tt3032476/   tvSeries   \n",
      "47   Law Abiding Citizen  https://www.imdb.com/title/tt1197624/      movie   \n",
      "14                  Léon  https://www.imdb.com/title/tt0110413/      movie   \n",
      "273          Ahlat Agaci  https://www.imdb.com/title/tt6628102/      movie   \n",
      "\n",
      "     IMDb Rating  Runtime (mins)  Year                           Genres  \\\n",
      "201          6.7           110.0  2008          Action, Crime, Thriller   \n",
      "48           8.2           177.0  1976   Biography, Drama, History, War   \n",
      "206          6.8           123.0  2008  Crime, Drama, History, Thriller   \n",
      "209          7.2           134.0  2017                   Drama, Western   \n",
      "166          6.5           111.0  2003                    Comedy, Drama   \n",
      "222          7.3           139.0  1996    Comedy, Drama, Romance, Sport   \n",
      "240          8.7            46.0  2015                     Crime, Drama   \n",
      "47           7.4           109.0  2009   Action, Crime, Drama, Thriller   \n",
      "14           8.5           110.0  1994   Action, Crime, Drama, Thriller   \n",
      "273          8.1           188.0  2018                            Drama   \n",
      "\n",
      "     Num Votes Release Date          Directors  Your Rating  Date Rated  \n",
      "201   359261.0   2008-06-12  Timur Bekmambetov            5  2018-01-30  \n",
      "48     43759.0   1976-07-30    Moustapha Akkad            8  2012-04-02  \n",
      "206   228946.0   2008-03-07     Robert Luketic            7  2018-03-16  \n",
      "209    70576.0   2017-09-02       Scott Cooper            6  2018-05-28  \n",
      "166    14466.0   2003-12-31     Yilmaz Erdogan            6  2018-01-19  \n",
      "222   242305.0   1996-12-06      Cameron Crowe            6  2018-12-30  \n",
      "240   318883.0   2015-02-08                NaN            8  2020-05-11  \n",
      "47    270794.0   2009-09-23       F. Gary Gray            7  2018-10-24  \n",
      "14   1030701.0   1994-09-14         Luc Besson            8  2011-11-01  \n",
      "273    20414.0   2018-05-18  Nuri Bilge Ceylan            8  2020-12-24  \n"
     ]
    }
   ],
   "source": [
    "print(sample)"
   ]
  },
  {
   "cell_type": "code",
   "execution_count": null,
   "metadata": {},
   "outputs": [],
   "source": []
  }
 ],
 "metadata": {
  "kernelspec": {
   "display_name": "Python 3",
   "language": "python",
   "name": "python3"
  },
  "language_info": {
   "codemirror_mode": {
    "name": "ipython",
    "version": 3
   },
   "file_extension": ".py",
   "mimetype": "text/x-python",
   "name": "python",
   "nbconvert_exporter": "python",
   "pygments_lexer": "ipython3",
   "version": "3.9.1"
  }
 },
 "nbformat": 4,
 "nbformat_minor": 4
}
