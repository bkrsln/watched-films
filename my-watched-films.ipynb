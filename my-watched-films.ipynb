{
 "cells": [
  {
   "cell_type": "code",
   "execution_count": 80,
   "metadata": {},
   "outputs": [],
   "source": [
    "import numpy as np\n",
    "import pandas as pd\n",
    "from bokeh.plotting import figure, output_file, show\n",
    "from bokeh.models import ColumnDataSource"
   ]
  },
  {
   "cell_type": "code",
   "execution_count": 81,
   "metadata": {},
   "outputs": [],
   "source": [
    "df = pd.read_csv('my-watched-films.csv', encoding = \"ISO-8859-1\")\n",
    "\n",
    "imdb_rating = df['IMDb Rating']\n",
    "year = df['Year']\n",
    "my_rating = df['Your Rating']\n",
    "votes = df['Num Votes']"
   ]
  },
  {
   "cell_type": "code",
   "execution_count": 84,
   "metadata": {},
   "outputs": [],
   "source": [
    "output_file(\"temp.html\")\n",
    "\n",
    "p = figure(x_range=(1960,2030), y_range=(4,10), title=\"Year / Rating\")\n",
    "p.circle(year, imdb_rating, legend_label='IMDb Rating', size=my_rating)\n",
    "\n",
    "show(p)"
   ]
  },
  {
   "cell_type": "code",
   "execution_count": 85,
   "metadata": {},
   "outputs": [],
   "source": [
    "output_file(\"temp2.html\")\n",
    "\n",
    "p = figure()\n",
    "p.vbar(year, width=0.2, bottom=0, top=votes)\n",
    "\n",
    "show(p)"
   ]
  },
  {
   "cell_type": "code",
   "execution_count": null,
   "metadata": {},
   "outputs": [],
   "source": []
  }
 ],
 "metadata": {
  "kernelspec": {
   "display_name": "Python 3",
   "language": "python",
   "name": "python3"
  },
  "language_info": {
   "codemirror_mode": {
    "name": "ipython",
    "version": 3
   },
   "file_extension": ".py",
   "mimetype": "text/x-python",
   "name": "python",
   "nbconvert_exporter": "python",
   "pygments_lexer": "ipython3",
   "version": "3.9.1"
  }
 },
 "nbformat": 4,
 "nbformat_minor": 4
}
